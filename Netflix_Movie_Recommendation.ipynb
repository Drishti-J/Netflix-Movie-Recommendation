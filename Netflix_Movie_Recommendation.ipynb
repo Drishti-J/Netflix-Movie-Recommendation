{
  "nbformat": 4,
  "nbformat_minor": 0,
  "metadata": {
    "colab": {
      "provenance": []
    },
    "kernelspec": {
      "name": "python3",
      "display_name": "Python 3"
    },
    "language_info": {
      "name": "python"
    }
  },
  "cells": [
    {
      "cell_type": "code",
      "source": [
        "!pip install --upgrade pip setuptools wheel\n"
      ],
      "metadata": {
        "colab": {
          "base_uri": "https://localhost:8080/"
        },
        "id": "EjU6VKCC3Y9k",
        "outputId": "5f66556b-8b32-43ea-982f-c139006d7dfb"
      },
      "execution_count": null,
      "outputs": [
        {
          "output_type": "stream",
          "name": "stdout",
          "text": [
            "Requirement already satisfied: pip in /usr/local/lib/python3.11/dist-packages (25.0.1)\n",
            "Requirement already satisfied: setuptools in /usr/local/lib/python3.11/dist-packages (78.1.0)\n",
            "Requirement already satisfied: wheel in /usr/local/lib/python3.11/dist-packages (0.45.1)\n"
          ]
        }
      ]
    },
    {
      "cell_type": "code",
      "source": [
        "!pip install --upgrade numpy==1.23.5\n"
      ],
      "metadata": {
        "colab": {
          "base_uri": "https://localhost:8080/"
        },
        "id": "herWccoo37-t",
        "outputId": "dca3ecc0-8bfa-4bde-d39f-eacd99ac8360"
      },
      "execution_count": null,
      "outputs": [
        {
          "output_type": "stream",
          "name": "stdout",
          "text": [
            "Requirement already satisfied: numpy==1.23.5 in /usr/local/lib/python3.11/dist-packages (1.23.5)\n"
          ]
        }
      ]
    },
    {
      "cell_type": "code",
      "source": [
        "!pip install --no-binary scikit-surprise scikit-surprise\n"
      ],
      "metadata": {
        "colab": {
          "base_uri": "https://localhost:8080/"
        },
        "id": "P68TGUz14Pjv",
        "outputId": "e93491cb-ee65-4d80-b6b0-6e97db7b503e"
      },
      "execution_count": null,
      "outputs": [
        {
          "output_type": "stream",
          "name": "stdout",
          "text": [
            "Requirement already satisfied: scikit-surprise in /usr/local/lib/python3.11/dist-packages (1.1.4)\n",
            "Requirement already satisfied: joblib>=1.2.0 in /usr/local/lib/python3.11/dist-packages (from scikit-surprise) (1.4.2)\n",
            "Requirement already satisfied: numpy>=1.19.5 in /usr/local/lib/python3.11/dist-packages (from scikit-surprise) (1.23.5)\n",
            "Requirement already satisfied: scipy>=1.6.0 in /usr/local/lib/python3.11/dist-packages (from scikit-surprise) (1.14.1)\n"
          ]
        }
      ]
    },
    {
      "cell_type": "code",
      "source": [
        "import sys\n",
        "import numpy as np\n",
        "\n",
        "print(\"Python version:\", sys.version)\n",
        "print(\"NumPy version:\", np.__version__)\n",
        "\n",
        "import surprise\n",
        "from surprise import Dataset, Reader, SVD\n",
        "print(\"scikit-surprise imported successfully!\")\n"
      ],
      "metadata": {
        "colab": {
          "base_uri": "https://localhost:8080/"
        },
        "id": "jLNlnHRu4Xl8",
        "outputId": "87747282-d478-494a-c14f-4013547373a8"
      },
      "execution_count": null,
      "outputs": [
        {
          "output_type": "stream",
          "name": "stdout",
          "text": [
            "Python version: 3.11.11 (main, Dec  4 2024, 08:55:07) [GCC 11.4.0]\n",
            "NumPy version: 1.23.5\n",
            "scikit-surprise imported successfully!\n"
          ]
        }
      ]
    },
    {
      "cell_type": "code",
      "source": [
        "!pip install kaggle\n",
        "\n",
        "# Make a directory for your Kaggle configuration (if it doesn't exist)\n",
        "!mkdir -p ~/.kaggle\n",
        "\n",
        "# Copy your kaggle.json to this directory\n",
        "!cp /content/kaggle.json ~/.kaggle/\n",
        "\n",
        "# Change permissions to secure your file\n",
        "!chmod 600 ~/.kaggle/kaggle.json\n"
      ],
      "metadata": {
        "colab": {
          "base_uri": "https://localhost:8080/"
        },
        "id": "HdlpAhlp4fNf",
        "outputId": "6591b66f-3c9f-42bb-bf6a-bce0b8698b9a"
      },
      "execution_count": null,
      "outputs": [
        {
          "output_type": "stream",
          "name": "stdout",
          "text": [
            "Requirement already satisfied: kaggle in /usr/local/lib/python3.11/dist-packages (1.7.4.2)\n",
            "Requirement already satisfied: bleach in /usr/local/lib/python3.11/dist-packages (from kaggle) (6.2.0)\n",
            "Requirement already satisfied: certifi>=14.05.14 in /usr/local/lib/python3.11/dist-packages (from kaggle) (2025.1.31)\n",
            "Requirement already satisfied: charset-normalizer in /usr/local/lib/python3.11/dist-packages (from kaggle) (3.4.1)\n",
            "Requirement already satisfied: idna in /usr/local/lib/python3.11/dist-packages (from kaggle) (3.10)\n",
            "Requirement already satisfied: protobuf in /usr/local/lib/python3.11/dist-packages (from kaggle) (5.29.4)\n",
            "Requirement already satisfied: python-dateutil>=2.5.3 in /usr/local/lib/python3.11/dist-packages (from kaggle) (2.8.2)\n",
            "Requirement already satisfied: python-slugify in /usr/local/lib/python3.11/dist-packages (from kaggle) (8.0.4)\n",
            "Requirement already satisfied: requests in /usr/local/lib/python3.11/dist-packages (from kaggle) (2.32.3)\n",
            "Requirement already satisfied: setuptools>=21.0.0 in /usr/local/lib/python3.11/dist-packages (from kaggle) (78.1.0)\n",
            "Requirement already satisfied: six>=1.10 in /usr/local/lib/python3.11/dist-packages (from kaggle) (1.17.0)\n",
            "Requirement already satisfied: text-unidecode in /usr/local/lib/python3.11/dist-packages (from kaggle) (1.3)\n",
            "Requirement already satisfied: tqdm in /usr/local/lib/python3.11/dist-packages (from kaggle) (4.67.1)\n",
            "Requirement already satisfied: urllib3>=1.15.1 in /usr/local/lib/python3.11/dist-packages (from kaggle) (2.3.0)\n",
            "Requirement already satisfied: webencodings in /usr/local/lib/python3.11/dist-packages (from kaggle) (0.5.1)\n"
          ]
        }
      ]
    },
    {
      "cell_type": "code",
      "source": [
        "!kaggle datasets download -d netflix-inc/netflix-prize-data -p /content/netflix_data --unzip"
      ],
      "metadata": {
        "colab": {
          "base_uri": "https://localhost:8080/"
        },
        "id": "R6khZk2w6nex",
        "outputId": "e078cc68-cc5b-4221-ac4d-ff033d9aeb1e"
      },
      "execution_count": null,
      "outputs": [
        {
          "output_type": "stream",
          "name": "stdout",
          "text": [
            "Dataset URL: https://www.kaggle.com/datasets/netflix-inc/netflix-prize-data\n",
            "License(s): other\n"
          ]
        }
      ]
    },
    {
      "cell_type": "code",
      "source": [
        "!ls /content/netflix_data\n"
      ],
      "metadata": {
        "colab": {
          "base_uri": "https://localhost:8080/"
        },
        "id": "ODYJsJON6sBK",
        "outputId": "8795064a-3cee-4157-c718-fcbe621542f9"
      },
      "execution_count": null,
      "outputs": [
        {
          "output_type": "stream",
          "name": "stdout",
          "text": [
            "combined_data_1.txt  combined_data_3.txt  movie_titles.csv  qualifying.txt\n",
            "combined_data_2.txt  combined_data_4.txt  probe.txt\t    README\n"
          ]
        }
      ]
    },
    {
      "cell_type": "code",
      "source": [
        "import pandas as pd\n",
        "\n",
        "file_path = '/content/netflix_data/combined_data_1.txt'\n",
        "data = []\n",
        "with open(file_path, 'r') as f:\n",
        "    for line in f:\n",
        "        line = line.strip()\n",
        "        if line.endswith(':'):\n",
        "            current_movie_id = int(line[:-1])\n",
        "        else:\n",
        "            customer_id, rating, date = line.split(',')\n",
        "            data.append([current_movie_id, int(customer_id), int(rating), date])\n",
        "\n",
        "df = pd.DataFrame(data, columns=['MovieID', 'UserID', 'Rating', 'Date'])\n",
        "print(df.head())\n"
      ],
      "metadata": {
        "colab": {
          "base_uri": "https://localhost:8080/"
        },
        "id": "rDQU6NdF7OAu",
        "outputId": "1bd37d77-19fe-4fe6-b415-3e32a3ee47fd"
      },
      "execution_count": null,
      "outputs": [
        {
          "output_type": "stream",
          "name": "stdout",
          "text": [
            "   MovieID   UserID  Rating        Date\n",
            "0        1  1488844       3  2005-09-06\n",
            "1        1   822109       5  2005-05-13\n",
            "2        1   885013       4  2005-10-19\n",
            "3        1    30878       4  2005-12-26\n",
            "4        1   823519       3  2004-05-03\n"
          ]
        }
      ]
    },
    {
      "cell_type": "code",
      "source": [
        "# Count unique movies, users, and total ratings\n",
        "num_movies = df['MovieID'].nunique()\n",
        "num_users = df['UserID'].nunique()\n",
        "num_ratings = len(df)\n",
        "\n",
        "print(\"Number of unique movies:\", num_movies)\n",
        "print(\"Number of unique users:\", num_users)\n",
        "print(\"Total number of ratings:\", num_ratings)\n"
      ],
      "metadata": {
        "colab": {
          "base_uri": "https://localhost:8080/"
        },
        "id": "JCyzdAcnFo8F",
        "outputId": "08918513-3cde-42fe-89db-baf16c75e21d"
      },
      "execution_count": null,
      "outputs": [
        {
          "output_type": "stream",
          "name": "stdout",
          "text": [
            "Number of unique movies: 4499\n",
            "Number of unique users: 470758\n",
            "Total number of ratings: 24053764\n"
          ]
        }
      ]
    },
    {
      "cell_type": "code",
      "source": [
        "import matplotlib.pyplot as plt\n",
        "import seaborn as sns\n",
        "\n",
        "plt.figure(figsize=(8, 6))\n",
        "sns.countplot(x='Rating', data=df, palette='viridis')\n",
        "plt.title('Rating Distribution')\n",
        "plt.xlabel('Rating')\n",
        "plt.ylabel('Count')\n",
        "plt.show()\n"
      ],
      "metadata": {
        "colab": {
          "base_uri": "https://localhost:8080/",
          "height": 671
        },
        "id": "LUSSUneuNTge",
        "outputId": "b3617355-d6d4-4cdb-d321-b13cd5496764"
      },
      "execution_count": null,
      "outputs": [
        {
          "output_type": "stream",
          "name": "stderr",
          "text": [
            "<ipython-input-4-0192fb0706fc>:5: FutureWarning: \n",
            "\n",
            "Passing `palette` without assigning `hue` is deprecated and will be removed in v0.14.0. Assign the `x` variable to `hue` and set `legend=False` for the same effect.\n",
            "\n",
            "  sns.countplot(x='Rating', data=df, palette='viridis')\n"
          ]
        },
        {
          "output_type": "display_data",
          "data": {
            "text/plain": [
              "<Figure size 800x600 with 1 Axes>"
            ],
            "image/png": "[encoded data removed]"
          },
          "metadata": {}
        }
      ]
    },
    {
      "cell_type": "code",
      "source": [
        "# Take a sample of 100,000 ratings for faster processing\n",
        "df_sample = df.sample(n=200000, random_state=42)\n",
        "\n",
        "# Preview the sample\n",
        "print(df_sample.head())\n"
      ],
      "metadata": {
        "colab": {
          "base_uri": "https://localhost:8080/"
        },
        "id": "U7SQlrxNSvmd",
        "outputId": "a5063220-e229-4fcd-b64c-82e4dc251b23"
      },
      "execution_count": null,
      "outputs": [
        {
          "output_type": "stream",
          "name": "stdout",
          "text": [
            "          MovieID   UserID  Rating       Date YearMonth\n",
            "20520773     3894  2260145       3 2005-01-19   2005-01\n",
            "15441596     2960  1934293       3 2005-03-26   2005-03\n",
            "10358153     2009  2559843       3 2004-02-09   2004-02\n",
            "1618777       313  1197042       5 2001-08-21   2001-08\n",
            "13955499     2680   900629       2 2004-07-07   2004-07\n"
          ]
        }
      ]
    },
    {
      "cell_type": "code",
      "source": [
        "from surprise import Dataset, Reader\n",
        "\n",
        "# Define the reader with rating scale 1 to 5. We define the range of valid ratings. Netflix uses 1 to 5 stars, so we specify that here.\n",
        "reader = Reader(rating_scale=(1, 5))\n",
        "\n",
        "# Load the dataset into surprise format\n",
        "data = Dataset.load_from_df(df_sample[['UserID', 'MovieID', 'Rating']], reader)\n",
        "\n",
        "# Build the full trainset for training\n",
        "trainset = data.build_full_trainset()\n"
      ],
      "metadata": {
        "id": "iZoOA8gjwxEq"
      },
      "execution_count": null,
      "outputs": []
    },
    {
      "cell_type": "code",
      "source": [
        "from surprise import SVD\n",
        "from surprise.model_selection import cross_validate\n",
        "\n",
        "# Initialize the SVD model\n",
        "model = SVD()\n",
        "\n",
        "# Evaluate the model using cross-validation\n",
        "cross_validate(model, data, measures=['RMSE', 'MAE'], cv=3, verbose=True)\n"
      ],
      "metadata": {
        "colab": {
          "base_uri": "https://localhost:8080/"
        },
        "id": "C_0j--UJxedc",
        "outputId": "5e9631f7-835e-48f5-f23a-dacb47392d5a"
      },
      "execution_count": null,
      "outputs": [
        {
          "output_type": "stream",
          "name": "stdout",
          "text": [
            "Evaluating RMSE, MAE of algorithm SVD on 3 split(s).\n",
            "\n",
            "                  Fold 1  Fold 2  Fold 3  Mean    Std     \n",
            "RMSE (testset)    1.0161  1.0186  1.0212  1.0187  0.0021  \n",
            "MAE (testset)     0.8172  0.8187  0.8198  0.8186  0.0011  \n",
            "Fit time          4.59    4.67    4.96    4.74    0.16    \n",
            "Test time         0.59    0.52    0.52    0.54    0.04    \n"
          ]
        },
        {
          "output_type": "execute_result",
          "data": {
            "text/plain": [
              "{'test_rmse': array([1.0160951 , 1.01864993, 1.0212342 ]),\n",
              " 'test_mae': array([0.81717555, 0.81869926, 0.81981636]),\n",
              " 'fit_time': (4.586117267608643, 4.67467474937439, 4.95831298828125),\n",
              " 'test_time': (0.5923426151275635, 0.5170807838439941, 0.5173110961914062)}"
            ]
          },
          "metadata": {},
          "execution_count": 67
        }
      ]
    },
    {
      "cell_type": "code",
      "source": [
        "found = False\n",
        "\n",
        "# Loop through all users in trainset\n",
        "for user_id in trainset.all_users():\n",
        "    raw_uid = trainset.to_raw_uid(user_id)  # string\n",
        "    int_uid = int(raw_uid)  # for filtering df_sample\n",
        "\n",
        "    # Filter for ratings by this user\n",
        "    user_ratings = df_sample[(df_sample['UserID'] == int_uid) & (df_sample['Rating'] >= 4)]\n",
        "\n",
        "    if len(user_ratings) >= 10:\n",
        "        final_user_id_str = raw_uid\n",
        "        final_user_id_int = int_uid\n",
        "        print(f\"🎯 Found user: {final_user_id_str} with {len(user_ratings)} high ratings\")\n",
        "        found = True\n",
        "        break\n",
        "\n",
        "if not found:\n",
        "    print(\"❌ No user found with multiple 4+ ratings. Try increasing sample size.\")\n"
      ],
      "metadata": {
        "colab": {
          "base_uri": "https://localhost:8080/"
        },
        "id": "_Lk7MW8r-ToV",
        "outputId": "f81eddcd-d2bb-4056-d602-a3418fbaed7c"
      },
      "execution_count": null,
      "outputs": [
        {
          "output_type": "stream",
          "name": "stdout",
          "text": [
            "🎯 Found user: 1664010 with 30 high ratings\n"
          ]
        }
      ]
    },
    {
      "cell_type": "code",
      "source": [
        "liked_with_titles = pd.merge(user_ratings, movie_titles, on='MovieID', how='left')\n",
        "\n",
        "print(f\"\\n🎬 Movies liked by user {final_user_id_str}:\")\n",
        "print(liked_with_titles[['MovieID', 'Title', 'Rating']].head(10))\n"
      ],
      "metadata": {
        "colab": {
          "base_uri": "https://localhost:8080/"
        },
        "id": "FhGgcwIM-rm0",
        "outputId": "f865d403-e4a6-4057-eced-95642b8977c4"
      },
      "execution_count": null,
      "outputs": [
        {
          "output_type": "stream",
          "name": "stdout",
          "text": [
            "\n",
            "🎬 Movies liked by user 1664010:\n",
            "   MovieID                                              Title  Rating\n",
            "0     1217             Dragon Tales: Let's Share! Let's Play!       5\n",
            "1       89                                   Chain of Command       4\n",
            "2     2670                               The Eighteenth Angel       5\n",
            "3     1194                                               Fall       4\n",
            "4      991  Burn Up Excess: Vol. 2: Crimes and Missed Deme...       5\n",
            "5     3416                            Masters of the Universe       4\n",
            "6     4139                                               2LDK       4\n",
            "7     4040                                  Tales of the City       5\n",
            "8     1612                                          Tony Rome       5\n",
            "9     2731                                          Tank Girl       5\n"
          ]
        }
      ]
    },
    {
      "cell_type": "code",
      "source": [
        "recommendations = recommend_movies_with_titles(model, trainset, final_user_id_str, movie_titles, n=10)\n",
        "\n",
        "print(f\"\\n🍿 Top 10 recommended movies for user {final_user_id_str}:\")\n",
        "print(recommendations)\n"
      ],
      "metadata": {
        "colab": {
          "base_uri": "https://localhost:8080/"
        },
        "id": "hTR0CZ_Y-tWT",
        "outputId": "ec103e01-bfc0-4748-9555-a9ab38debe68"
      },
      "execution_count": null,
      "outputs": [
        {
          "output_type": "stream",
          "name": "stdout",
          "text": [
            "\n",
            "🍿 Top 10 recommended movies for user 1664010:\n",
            "   MovieID                                          Title  PredictedRating\n",
            "0     4306                                The Sixth Sense                5\n",
            "1     3962                      Finding Nemo (Widescreen)                5\n",
            "2     3864                                  Batman Begins                5\n",
            "3     3290                                            NaN                5\n",
            "4     2913                              Finding Neverland                5\n",
            "5     2452  Lord of the Rings: The Fellowship of the Ring                5\n",
            "6     2803                            Pride and Prejudice                5\n",
            "7     2057             Buffy the Vampire Slayer: Season 6                5\n",
            "8     4353                 Curb Your Enthusiasm: Season 3                5\n",
            "9      872                                  Seven Samurai                5\n"
          ]
        }
      ]
    },
    {
      "cell_type": "code",
      "source": [],
      "metadata": {
        "id": "Pe1GsI6ACFBZ"
      },
      "execution_count": null,
      "outputs": []
    }
  ]
}